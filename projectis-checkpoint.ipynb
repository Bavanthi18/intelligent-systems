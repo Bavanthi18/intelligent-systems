{
 "cells": [
  {
   "cell_type": "code",
   "execution_count": 56,
   "id": "d5d1a854-4ef9-4c7d-b8a2-5f4b758ca026",
   "metadata": {},
   "outputs": [],
   "source": [
    "import tensorflow as tf\n",
    "import streamlit as st\n",
    "import numpy as np\n",
    "import matplotlib.pyplot as plt\n",
    "\n",
    "from tensorflow import keras\n",
    "from tensorflow.keras import layers"
   ]
  },
  {
   "cell_type": "code",
   "execution_count": 58,
   "id": "e49c792c-0cba-43e5-8896-5ee064869e1f",
   "metadata": {},
   "outputs": [],
   "source": [
    "data_train_path = 'Code/train'\n",
    "data_test_path = 'Code/test'\n",
    "data_val_path = 'Code/validation'\n"
   ]
  },
  {
   "cell_type": "code",
   "execution_count": 60,
   "id": "87bfc23a-20d2-4bd0-9c90-c4393d2b97b2",
   "metadata": {},
   "outputs": [],
   "source": [
    "img_width = 180\n",
    "img_height = 180"
   ]
  },
  {
   "cell_type": "code",
   "execution_count": 62,
   "id": "0dd7362c-4b28-4457-8ad8-d20da0d7aedf",
   "metadata": {},
   "outputs": [
    {
     "name": "stdout",
     "output_type": "stream",
     "text": [
      "Found 3115 files belonging to 36 classes.\n"
     ]
    }
   ],
   "source": [
    "data_train = tf.keras.utils.image_dataset_from_directory(\n",
    "    data_train_path,\n",
    "    shuffle=True,\n",
    "    image_size=(img_width,img_height),\n",
    "    batch_size=32,\n",
    "    validation_split=False)"
   ]
  },
  {
   "cell_type": "code",
   "execution_count": 64,
   "id": "2b764e2d-96b9-4398-89c2-157e64631f72",
   "metadata": {},
   "outputs": [],
   "source": [
    "data_cat = data_train.class_names"
   ]
  },
  {
   "cell_type": "code",
   "execution_count": 66,
   "id": "9fea3289-6681-4ce6-9145-d2e94e6c5c25",
   "metadata": {},
   "outputs": [
    {
     "name": "stdout",
     "output_type": "stream",
     "text": [
      "Found 351 files belonging to 36 classes.\n"
     ]
    }
   ],
   "source": [
    "data_val = tf.keras.utils.image_dataset_from_directory(\n",
    "    data_val_path,\n",
    "    shuffle=True,\n",
    "    image_size=(img_width,img_height),\n",
    "    batch_size=32,\n",
    "    validation_split=False)"
   ]
  },
  {
   "cell_type": "code",
   "execution_count": 68,
   "id": "f812100e-3ff3-46fa-bc8a-b93c0d04bd79",
   "metadata": {},
   "outputs": [
    {
     "name": "stdout",
     "output_type": "stream",
     "text": [
      "Found 347 files belonging to 36 classes.\n"
     ]
    }
   ],
   "source": [
    "data_test = tf.keras.utils.image_dataset_from_directory(\n",
    "    data_test_path,\n",
    "    shuffle=True,\n",
    "    image_size=(img_width,img_height),\n",
    "    batch_size=32,\n",
    "    validation_split=False)"
   ]
  },
  {
   "cell_type": "code",
   "execution_count": 70,
   "id": "78af38a7-94d2-4006-8272-163ab60a9ec4",
   "metadata": {},
   "outputs": [],
   "source": [
    "plt.figure(figsize=(10,10))\n",
    "for image, labels in data_train.take(1):\n",
    "    for i in range(3):\n",
    "        plt.subplot(2,2,i+1)\n",
    "        plt.imshow(image[i].numpy().astype('uint8'))\n",
    "        plt.title(data_cat[labels[1]])\n",
    "        plt.axis('off')"
   ]
  },
  {
   "cell_type": "code",
   "execution_count": 71,
   "id": "e0940446-47ea-4d37-b4de-8a992e3c4a98",
   "metadata": {},
   "outputs": [],
   "source": [
    "from tensorflow.keras.models import Sequential"
   ]
  },
  {
   "cell_type": "code",
   "execution_count": 74,
   "id": "841ffe50-5b21-4ec3-829e-60bdf05d03af",
   "metadata": {},
   "outputs": [
    {
     "data": {
      "text/plain": [
       "<_PrefetchDataset element_spec=(TensorSpec(shape=(None, 180, 180, 3), dtype=tf.float32, name=None), TensorSpec(shape=(None,), dtype=tf.int32, name=None))>"
      ]
     },
     "execution_count": 74,
     "metadata": {},
     "output_type": "execute_result"
    }
   ],
   "source": [
    "data_train"
   ]
  },
  {
   "cell_type": "code",
   "execution_count": 76,
   "id": "68f791bb-cafa-488d-8877-905283dbb34b",
   "metadata": {},
   "outputs": [],
   "source": [
    "model = Sequential([\n",
    "    layers.Rescaling(1./255),\n",
    "    layers.Conv2D(16, 3, padding= 'same', activation='relu'),\n",
    "    layers.MaxPooling2D(),\n",
    "    layers.Conv2D(32,3, padding='same', activation='relu'),\n",
    "    layers.MaxPooling2D(),\n",
    "    layers.Conv2D(64,3, padding='same', activation='relu'),\n",
    "    layers.MaxPooling2D(),\n",
    "    layers.Flatten(),\n",
    "    layers.Dropout(0.2),\n",
    "    layers.Dense(128),\n",
    "    layers.Dense(len(data_cat))\n",
    "])\n",
    "    "
   ]
  },
  {
   "cell_type": "code",
   "execution_count": 78,
   "id": "e356658d-b31b-4719-b9c6-8119f0dff4d7",
   "metadata": {},
   "outputs": [],
   "source": [
    "model.compile(optimizer='adam', loss=tf.keras.losses.SparseCategoricalCrossentropy(from_logits=True), metrics=['accuracy'])"
   ]
  },
  {
   "cell_type": "code",
   "execution_count": 80,
   "id": "22af4160-e25f-478d-ad1a-60c48ef1f332",
   "metadata": {},
   "outputs": [
    {
     "name": "stdout",
     "output_type": "stream",
     "text": [
      "Epoch 1/25\n",
      "\u001b[1m98/98\u001b[0m \u001b[32m━━━━━━━━━━━━━━━━━━━━\u001b[0m\u001b[37m\u001b[0m \u001b[1m47s\u001b[0m 423ms/step - accuracy: 0.0478 - loss: 4.4543 - val_accuracy: 0.1510 - val_loss: 2.9438\n",
      "Epoch 2/25\n",
      "\u001b[1m98/98\u001b[0m \u001b[32m━━━━━━━━━━━━━━━━━━━━\u001b[0m\u001b[37m\u001b[0m \u001b[1m42s\u001b[0m 424ms/step - accuracy: 0.1617 - loss: 2.9796 - val_accuracy: 0.4558 - val_loss: 2.0314\n",
      "Epoch 3/25\n",
      "\u001b[1m98/98\u001b[0m \u001b[32m━━━━━━━━━━━━━━━━━━━━\u001b[0m\u001b[37m\u001b[0m \u001b[1m44s\u001b[0m 435ms/step - accuracy: 0.3688 - loss: 2.2514 - val_accuracy: 0.6553 - val_loss: 1.2862\n",
      "Epoch 4/25\n",
      "\u001b[1m98/98\u001b[0m \u001b[32m━━━━━━━━━━━━━━━━━━━━\u001b[0m\u001b[37m\u001b[0m \u001b[1m46s\u001b[0m 469ms/step - accuracy: 0.5005 - loss: 1.7872 - val_accuracy: 0.7863 - val_loss: 0.8099\n",
      "Epoch 5/25\n",
      "\u001b[1m98/98\u001b[0m \u001b[32m━━━━━━━━━━━━━━━━━━━━\u001b[0m\u001b[37m\u001b[0m \u001b[1m43s\u001b[0m 432ms/step - accuracy: 0.6266 - loss: 1.2906 - val_accuracy: 0.8519 - val_loss: 0.5684\n",
      "Epoch 6/25\n",
      "\u001b[1m98/98\u001b[0m \u001b[32m━━━━━━━━━━━━━━━━━━━━\u001b[0m\u001b[37m\u001b[0m \u001b[1m45s\u001b[0m 453ms/step - accuracy: 0.7596 - loss: 0.8592 - val_accuracy: 0.8946 - val_loss: 0.4921\n",
      "Epoch 7/25\n",
      "\u001b[1m98/98\u001b[0m \u001b[32m━━━━━━━━━━━━━━━━━━━━\u001b[0m\u001b[37m\u001b[0m \u001b[1m44s\u001b[0m 447ms/step - accuracy: 0.8140 - loss: 0.6282 - val_accuracy: 0.9117 - val_loss: 0.3618\n",
      "Epoch 8/25\n",
      "\u001b[1m98/98\u001b[0m \u001b[32m━━━━━━━━━━━━━━━━━━━━\u001b[0m\u001b[37m\u001b[0m \u001b[1m44s\u001b[0m 446ms/step - accuracy: 0.8764 - loss: 0.4486 - val_accuracy: 0.9031 - val_loss: 0.3744\n",
      "Epoch 9/25\n",
      "\u001b[1m98/98\u001b[0m \u001b[32m━━━━━━━━━━━━━━━━━━━━\u001b[0m\u001b[37m\u001b[0m \u001b[1m45s\u001b[0m 454ms/step - accuracy: 0.8993 - loss: 0.3634 - val_accuracy: 0.9231 - val_loss: 0.3431\n",
      "Epoch 10/25\n",
      "\u001b[1m98/98\u001b[0m \u001b[32m━━━━━━━━━━━━━━━━━━━━\u001b[0m\u001b[37m\u001b[0m \u001b[1m44s\u001b[0m 444ms/step - accuracy: 0.9132 - loss: 0.3329 - val_accuracy: 0.9573 - val_loss: 0.2283\n",
      "Epoch 11/25\n",
      "\u001b[1m98/98\u001b[0m \u001b[32m━━━━━━━━━━━━━━━━━━━━\u001b[0m\u001b[37m\u001b[0m \u001b[1m45s\u001b[0m 448ms/step - accuracy: 0.9478 - loss: 0.2250 - val_accuracy: 0.9516 - val_loss: 0.2731\n",
      "Epoch 12/25\n",
      "\u001b[1m98/98\u001b[0m \u001b[32m━━━━━━━━━━━━━━━━━━━━\u001b[0m\u001b[37m\u001b[0m \u001b[1m46s\u001b[0m 466ms/step - accuracy: 0.9485 - loss: 0.1994 - val_accuracy: 0.9516 - val_loss: 0.3707\n",
      "Epoch 13/25\n",
      "\u001b[1m98/98\u001b[0m \u001b[32m━━━━━━━━━━━━━━━━━━━━\u001b[0m\u001b[37m\u001b[0m \u001b[1m44s\u001b[0m 437ms/step - accuracy: 0.9670 - loss: 0.1554 - val_accuracy: 0.9516 - val_loss: 0.2989\n",
      "Epoch 14/25\n",
      "\u001b[1m98/98\u001b[0m \u001b[32m━━━━━━━━━━━━━━━━━━━━\u001b[0m\u001b[37m\u001b[0m \u001b[1m44s\u001b[0m 445ms/step - accuracy: 0.9692 - loss: 0.1347 - val_accuracy: 0.9630 - val_loss: 0.2939\n",
      "Epoch 15/25\n",
      "\u001b[1m98/98\u001b[0m \u001b[32m━━━━━━━━━━━━━━━━━━━━\u001b[0m\u001b[37m\u001b[0m \u001b[1m45s\u001b[0m 453ms/step - accuracy: 0.9764 - loss: 0.1133 - val_accuracy: 0.9687 - val_loss: 0.2856\n",
      "Epoch 16/25\n",
      "\u001b[1m98/98\u001b[0m \u001b[32m━━━━━━━━━━━━━━━━━━━━\u001b[0m\u001b[37m\u001b[0m \u001b[1m48s\u001b[0m 489ms/step - accuracy: 0.9741 - loss: 0.1178 - val_accuracy: 0.9601 - val_loss: 0.3423\n",
      "Epoch 17/25\n",
      "\u001b[1m98/98\u001b[0m \u001b[32m━━━━━━━━━━━━━━━━━━━━\u001b[0m\u001b[37m\u001b[0m \u001b[1m45s\u001b[0m 456ms/step - accuracy: 0.9833 - loss: 0.0809 - val_accuracy: 0.9544 - val_loss: 0.3027\n",
      "Epoch 18/25\n",
      "\u001b[1m98/98\u001b[0m \u001b[32m━━━━━━━━━━━━━━━━━━━━\u001b[0m\u001b[37m\u001b[0m \u001b[1m49s\u001b[0m 501ms/step - accuracy: 0.9814 - loss: 0.0896 - val_accuracy: 0.9601 - val_loss: 0.2506\n",
      "Epoch 19/25\n",
      "\u001b[1m98/98\u001b[0m \u001b[32m━━━━━━━━━━━━━━━━━━━━\u001b[0m\u001b[37m\u001b[0m \u001b[1m46s\u001b[0m 467ms/step - accuracy: 0.9847 - loss: 0.0791 - val_accuracy: 0.9630 - val_loss: 0.2482\n",
      "Epoch 20/25\n",
      "\u001b[1m98/98\u001b[0m \u001b[32m━━━━━━━━━━━━━━━━━━━━\u001b[0m\u001b[37m\u001b[0m \u001b[1m46s\u001b[0m 454ms/step - accuracy: 0.9861 - loss: 0.0762 - val_accuracy: 0.9601 - val_loss: 0.2676\n",
      "Epoch 21/25\n",
      "\u001b[1m98/98\u001b[0m \u001b[32m━━━━━━━━━━━━━━━━━━━━\u001b[0m\u001b[37m\u001b[0m \u001b[1m44s\u001b[0m 445ms/step - accuracy: 0.9895 - loss: 0.0564 - val_accuracy: 0.9573 - val_loss: 0.2416\n",
      "Epoch 22/25\n",
      "\u001b[1m98/98\u001b[0m \u001b[32m━━━━━━━━━━━━━━━━━━━━\u001b[0m\u001b[37m\u001b[0m \u001b[1m45s\u001b[0m 446ms/step - accuracy: 0.9921 - loss: 0.0399 - val_accuracy: 0.9630 - val_loss: 0.2199\n",
      "Epoch 23/25\n",
      "\u001b[1m98/98\u001b[0m \u001b[32m━━━━━━━━━━━━━━━━━━━━\u001b[0m\u001b[37m\u001b[0m \u001b[1m45s\u001b[0m 453ms/step - accuracy: 0.9879 - loss: 0.0638 - val_accuracy: 0.9630 - val_loss: 0.2889\n",
      "Epoch 24/25\n",
      "\u001b[1m98/98\u001b[0m \u001b[32m━━━━━━━━━━━━━━━━━━━━\u001b[0m\u001b[37m\u001b[0m \u001b[1m45s\u001b[0m 443ms/step - accuracy: 0.9877 - loss: 0.0548 - val_accuracy: 0.9573 - val_loss: 0.2832\n",
      "Epoch 25/25\n",
      "\u001b[1m98/98\u001b[0m \u001b[32m━━━━━━━━━━━━━━━━━━━━\u001b[0m\u001b[37m\u001b[0m \u001b[1m44s\u001b[0m 444ms/step - accuracy: 0.9847 - loss: 0.0710 - val_accuracy: 0.9658 - val_loss: 0.3429\n"
     ]
    }
   ],
   "source": [
    "epochs_size = 25\n",
    "history = model.fit(data_train, validation_data = data_val, epochs=epochs_size)"
   ]
  },
  {
   "cell_type": "code",
   "execution_count": 84,
   "id": "363c142c-5b62-4ad5-9dc3-1aff0fe69dfd",
   "metadata": {},
   "outputs": [
    {
     "data": {
      "text/plain": [
       "Text(0.5, 1.0, 'Loss')"
      ]
     },
     "execution_count": 84,
     "metadata": {},
     "output_type": "execute_result"
    }
   ],
   "source": [
    "epochs_range = range(epochs_size)\n",
    "plt.figure(figsize=(8,8))\n",
    "plt.subplot(1,2,1)\n",
    "plt.plot(epochs_range,history.history['accuracy'],label = 'Training Accuracy')\n",
    "plt.plot(epochs_range,history.history['val_accuracy'],label = 'Validation Accuracy')\n",
    "plt.title('Accuracy')\n",
    "\n",
    "plt.subplot(1,2,2)\n",
    "plt.plot(epochs_range,history.history['loss'],label = 'Training loss')\n",
    "plt.plot(epochs_range,history.history['val_loss'],label = 'Validation loss')\n",
    "plt.title('Loss')\n"
   ]
  },
  {
   "cell_type": "code",
   "execution_count": 86,
   "id": "05dee350-5bdc-41c3-8729-c2b5bd167786",
   "metadata": {},
   "outputs": [],
   "source": [
    "image = 'Apple.jpg'\n",
    "image = tf.keras.utils.load_img(image, target_size=(img_height, img_width))\n",
    "img_arr = tf.keras.utils.array_to_img(image)\n",
    "img_bat = tf.expand_dims(img_arr, 0)"
   ]
  },
  {
   "cell_type": "code",
   "execution_count": 88,
   "id": "a9b21f19-6415-4d97-a92d-ad99afb77236",
   "metadata": {},
   "outputs": [
    {
     "name": "stdout",
     "output_type": "stream",
     "text": [
      "\u001b[1m1/1\u001b[0m \u001b[32m━━━━━━━━━━━━━━━━━━━━\u001b[0m\u001b[37m\u001b[0m \u001b[1m0s\u001b[0m 448ms/step\n"
     ]
    }
   ],
   "source": [
    "predict = model.predict(img_bat)"
   ]
  },
  {
   "cell_type": "code",
   "execution_count": 90,
   "id": "a0bbc709-d54f-46ae-a39f-1dad6388b042",
   "metadata": {},
   "outputs": [],
   "source": [
    "score = tf.nn.softmax(predict)"
   ]
  },
  {
   "cell_type": "code",
   "execution_count": 92,
   "id": "15fbdc1c-9877-4471-bc1a-67e7e9a76698",
   "metadata": {},
   "outputs": [
    {
     "name": "stdout",
     "output_type": "stream",
     "text": [
      "Veg/Fruit in image is apple with accuracy of 99.85\n"
     ]
    }
   ],
   "source": [
    "print('Veg/Fruit in image is {} with accuracy of {:0.2f}'.format(data_cat[np.argmax(score)],np.max(score)*100))"
   ]
  },
  {
   "cell_type": "code",
   "execution_count": 96,
   "id": "97fee646-c8b1-4a76-9e6d-a56a1fe7804d",
   "metadata": {},
   "outputs": [],
   "source": [
    "model.save('Image_classify.keras')"
   ]
  },
  {
   "cell_type": "code",
   "execution_count": null,
   "id": "439c1e7a-7d9b-4722-b7c3-03d14fdf9f69",
   "metadata": {},
   "outputs": [],
   "source": []
  },
  {
   "cell_type": "code",
   "execution_count": null,
   "id": "e8f5d3a0-bd11-4478-a7b5-577f2bbd9906",
   "metadata": {},
   "outputs": [],
   "source": []
  }
 ],
 "metadata": {
  "kernelspec": {
   "display_name": "Python 3 (ipykernel)",
   "language": "python",
   "name": "python3"
  },
  "language_info": {
   "codemirror_mode": {
    "name": "ipython",
    "version": 3
   },
   "file_extension": ".py",
   "mimetype": "text/x-python",
   "name": "python",
   "nbconvert_exporter": "python",
   "pygments_lexer": "ipython3",
   "version": "3.12.4"
  }
 },
 "nbformat": 4,
 "nbformat_minor": 5
}
